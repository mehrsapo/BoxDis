{
 "cells": [
  {
   "cell_type": "code",
   "execution_count": 1,
   "metadata": {},
   "outputs": [
    {
     "name": "stderr",
     "output_type": "stream",
     "text": [
      "/home/pourya/.conda/envs/htv_reg/lib/python3.9/site-packages/tqdm/auto.py:21: TqdmWarning: IProgress not found. Please update jupyter and ipywidgets. See https://ipywidgets.readthedocs.io/en/stable/user_install.html\n",
      "  from .autonotebook import tqdm as notebook_tqdm\n"
     ]
    }
   ],
   "source": [
    "from __init__ import * "
   ]
  },
  {
   "cell_type": "code",
   "execution_count": 2,
   "metadata": {},
   "outputs": [],
   "source": [
    "img =  plt.imread('images/mra_4.jpeg')[40:-25, 147:-206, 0] / 255\n",
    "device = 'cpu'\n",
    "mask = torch.ones((1, 1, 1024, 1024))\n",
    "mri = MRI(mask, device)\n",
    "sam = Sampler(device)\n",
    "prox_htv_ = prox_htv(device)\n",
    "htv = prox_htv_.htv\n",
    "tv_l2_  = TV_l2(device)"
   ]
  },
  {
   "cell_type": "code",
   "execution_count": 3,
   "metadata": {},
   "outputs": [
    {
     "name": "stdout",
     "output_type": "stream",
     "text": [
      "torch.Size([1, 1, 513, 513]) torch.Size([1, 1, 1025, 1025]) torch.Size([1, 1, 2049, 2049]) torch.Size([1, 1, 4097, 4097])\n"
     ]
    }
   ],
   "source": [
    "c_2 = F.pad(torch.from_numpy(img)[None, None, :, :].double().to(device), (1, 1, 1, 1))\n",
    "c_1 = sam.upsample(c_2)\n",
    "c_half = sam.upsample(c_1)\n",
    "c_quad = sam.upsample(c_half)\n",
    "\n",
    "print(c_2.size(), c_1.size(), c_half.size(), c_quad.size())"
   ]
  },
  {
   "cell_type": "code",
   "execution_count": 4,
   "metadata": {},
   "outputs": [
    {
     "name": "stdout",
     "output_type": "stream",
     "text": [
      "torch.Size([1, 1, 512, 512]) torch.Size([1, 1, 1024, 1024]) torch.Size([1, 1, 2048, 2048]) torch.Size([1, 1, 4096, 4096])\n"
     ]
    }
   ],
   "source": [
    "c_2_in = c_2[:, :, :-1, :-1]\n",
    "c_1_in = c_1[:, :, :-1, :-1]\n",
    "c_half_in = c_half[:, :, :-1, :-1]\n",
    "c_quad_in = c_quad[:, :, :-1, :-1]\n",
    "\n",
    "print(c_2_in.size(), c_1_in.size(), c_half_in.size(), c_quad_in.size())"
   ]
  },
  {
   "cell_type": "code",
   "execution_count": 5,
   "metadata": {},
   "outputs": [],
   "source": [
    "# check forward \n",
    "mri.set_h(1)\n",
    "f_hat_1 = mri.H(c_1_in)\n",
    "mri.set_h(2)\n",
    "f_hat_2 = mri.H(c_2_in)\n",
    "mri.set_h(0.5)\n",
    "f_hat_half = mri.H(c_half_in)\n",
    "mri.set_h(0.25)\n",
    "f_hat_quad = mri.H(c_quad_in)\n",
    "\n",
    "assert (torch.mean(torch.abs(f_hat_1-f_hat_2))) < 1e-5\n",
    "assert (torch.mean(torch.abs(f_hat_1-f_hat_half))) < 1e-5\n",
    "assert (torch.mean(torch.abs(f_hat_2-f_hat_half))) < 1e-5\n",
    "assert (torch.mean(torch.abs(f_hat_quad-f_hat_half))) < 1e-5"
   ]
  },
  {
   "cell_type": "code",
   "execution_count": 6,
   "metadata": {},
   "outputs": [
    {
     "name": "stdout",
     "output_type": "stream",
     "text": [
      "tensor(156.6114+6.3962j, dtype=torch.complex128) tensor(156.6114, dtype=torch.float64)\n",
      "tensor(-1932.1724+2.2737e-13j, dtype=torch.complex128) tensor(-1932.1724, dtype=torch.float64)\n",
      "tensor(-359.8729-1.7334j, dtype=torch.complex128) tensor(-359.8729, dtype=torch.float64)\n",
      "tensor(-2.0489-1.6078j, dtype=torch.complex128) tensor(-2.0489, dtype=torch.float64)\n"
     ]
    }
   ],
   "source": [
    "# check adjoint\n",
    "\n",
    "mri.set_h(1)\n",
    "x = torch.normal(0, 1, (1, 1, 1024, 1024)).double() \n",
    "y_prime = torch.normal(0, 1, (1, 1, 1024, 1024)).double() \n",
    "y = mri.H(y_prime)\n",
    "\n",
    "Hx = mri.H(x)\n",
    "Hty = mri.Ht(y)\n",
    "\n",
    "Hxy = (torch.conj(Hx) * y).sum()\n",
    "xHty = (x * Hty).sum()\n",
    "\n",
    "print(Hxy, xHty)\n",
    "\n",
    "mri.set_h(2)\n",
    "x = torch.normal(0, 1, (1, 1, 512, 512)).double() \n",
    "y_prime = torch.normal(0, 1, (1, 1, 512, 512)).double() \n",
    "y = mri.H(y_prime)\n",
    "\n",
    "Hx = mri.H(x)\n",
    "Hty = mri.Ht(y)\n",
    "\n",
    "Hxy = (torch.conj(Hx) * y).sum()\n",
    "xHty = (x * torch.conj(Hty)).sum()\n",
    "\n",
    "print(Hxy, xHty)\n",
    "\n",
    "\n",
    "mri.set_h(0.5)\n",
    "x = torch.normal(0, 1, (1, 1, 2048, 2048)).double() \n",
    "y_prime = torch.normal(0, 1, (1, 1, 2048, 2048)).double() \n",
    "y = mri.H(y_prime)\n",
    "\n",
    "Hx = mri.H(x)\n",
    "Hty = mri.Ht(y)\n",
    "\n",
    "Hxy = (torch.conj(Hx) * y).sum()\n",
    "xHty = (x * Hty).sum()\n",
    "\n",
    "print(Hxy, xHty)\n",
    "\n",
    "mri.set_h(0.25)\n",
    "x = torch.normal(0, 1, (1, 1, 4096, 4096)).double() \n",
    "y_prime = torch.normal(0, 1, (1, 1, 4096, 4096)).double() \n",
    "y = mri.H(y_prime)\n",
    "\n",
    "Hx = mri.H(x)\n",
    "Hty = mri.Ht(y)\n",
    "\n",
    "Hxy = (torch.conj(Hx) * y).sum()\n",
    "xHty = (x * Hty).sum()\n",
    "\n",
    "print(Hxy, xHty)"
   ]
  },
  {
   "cell_type": "code",
   "execution_count": 7,
   "metadata": {},
   "outputs": [
    {
     "name": "stdout",
     "output_type": "stream",
     "text": [
      "tensor(9328.5490, dtype=torch.float64) tensor(9328.5490, dtype=torch.float64) tensor(9328.5490, dtype=torch.float64) tensor(9328.5490, dtype=torch.float64)\n"
     ]
    }
   ],
   "source": [
    "# check htv \n",
    "htv_2 = htv.L(c_2).abs().sum()\n",
    "htv_1 = htv.L(c_1).abs().sum()\n",
    "htv_half = htv.L(c_half).abs().sum()\n",
    "htv_quad = htv.L(c_quad).abs().sum()\n",
    "\n",
    "print(htv_1, htv_2, htv_half, htv_quad)"
   ]
  },
  {
   "cell_type": "code",
   "execution_count": 8,
   "metadata": {},
   "outputs": [
    {
     "name": "stdout",
     "output_type": "stream",
     "text": [
      "tensor(14242.7321, dtype=torch.float64) tensor(14242.7321, dtype=torch.float64) tensor(14242.7321, dtype=torch.float64) tensor(14242.7321, dtype=torch.float64)\n"
     ]
    }
   ],
   "source": [
    "# check tv l2\n",
    "tv_2 = torch.norm(tv_l2_.L(c_2, 2), p=2, dim=1).sum()\n",
    "tv_1 = torch.norm(tv_l2_.L(c_1, 1), p=2, dim=1).sum()\n",
    "tv_half = torch.norm(tv_l2_.L(c_half, 0.5), p=2, dim=1).sum()\n",
    "tv_quad = torch.norm(tv_l2_.L(c_quad, 0.25), p=2, dim=1).sum()\n",
    "\n",
    "print(tv_1, tv_2, tv_half, tv_quad)"
   ]
  },
  {
   "cell_type": "code",
   "execution_count": null,
   "metadata": {},
   "outputs": [],
   "source": []
  }
 ],
 "metadata": {
  "kernelspec": {
   "display_name": "Dual_denoiser",
   "language": "python",
   "name": "python3"
  },
  "language_info": {
   "codemirror_mode": {
    "name": "ipython",
    "version": 3
   },
   "file_extension": ".py",
   "mimetype": "text/x-python",
   "name": "python",
   "nbconvert_exporter": "python",
   "pygments_lexer": "ipython3",
   "version": "3.9.16"
  },
  "orig_nbformat": 4
 },
 "nbformat": 4,
 "nbformat_minor": 2
}
