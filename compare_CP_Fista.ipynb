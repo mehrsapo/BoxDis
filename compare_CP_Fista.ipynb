{
 "cells": [
  {
   "cell_type": "code",
   "execution_count": 1,
   "metadata": {},
   "outputs": [],
   "source": [
    "from __init__ import * "
   ]
  },
  {
   "cell_type": "code",
   "execution_count": 2,
   "metadata": {},
   "outputs": [],
   "source": [
    "# optimal = 0.1097402969443912"
   ]
  },
  {
   "cell_type": "code",
   "execution_count": 5,
   "metadata": {},
   "outputs": [
    {
     "name": "stdout",
     "output_type": "stream",
     "text": [
      "Chambolle-Pock\n",
      "theta = 1, (tau, final loss, iters, times) 0.0001 0.12497126972915909 100000.0 121.07057094573975\n",
      "theta = 1, (tau, final loss, iters, times) 0.001 0.10979306756187474 100000.0 121.01593518257141\n",
      "theta = 1, (tau, final loss, iters, times) 0.01 0.1097419998825611 27305.0 32.9119017124176\n",
      "theta = 1, (tau, final loss, iters, times) 0.03 0.10974199998443931 9112.0 10.99028205871582\n",
      "theta = 1, (tau, final loss, iters, times) 0.05 0.10974199909371067 5481.0 6.628477096557617\n",
      "theta = 1, (tau, final loss, iters, times) 0.07 0.10974199967260036 3929.0 4.7377097606658936\n",
      "theta = 1, (tau, final loss, iters, times) 0.1 0.10974199796972317 2773.0 3.340803623199463\n",
      "theta = 1, (tau, final loss, iters, times) 1 0.10974978728715856 100000.0 175.1600103378296\n",
      "FISTA\n",
      "theta = 1, (final loss, iters, times) 0.10974189236122014 58.0 10.383862972259521\n",
      "Inexact Prox\n",
      "theta = 1, (final loss, iters, times) 0.10974180973912423 82.0 0.9769241809844971\n"
     ]
    }
   ],
   "source": [
    "print('Chambolle-Pock')\n",
    "taus = [1e-4, 1e-3, 1e-2, 3e-2, 5e-2, 7e-2, 1e-1, 1]\n",
    "time_cp = np.loadtxt('compare_cp/cp_times.txt')\n",
    "for i, tau in enumerate(taus):\n",
    "    loss = np.loadtxt('compare_cp/cp_loss_theta1_tau'+str(tau)+'.txt')\n",
    "    iters = np.loadtxt('compare_cp/cp_loss_theta1_tau'+str(tau)+'_iters.txt')\n",
    "    print('theta = 1, (tau, final loss, iters, times)', tau, loss[-1], iters, time_cp[i])\n",
    "\n",
    "print('FISTA')\n",
    "time = np.loadtxt('compare_cp/fista_times.txt')\n",
    "loss = np.loadtxt('compare_cp/fista_loss.txt')\n",
    "iters = np.loadtxt('compare_cp/fista_loss_iters.txt')\n",
    "print('theta = 1, (final loss, iters, times)', loss[-1], iters, time)\n",
    "print('Inexact Prox')\n",
    "time = np.loadtxt('compare_cp/fista_inexact_times.txt')\n",
    "loss = np.loadtxt('compare_cp/fista_inexact_loss.txt')\n",
    "iters = np.loadtxt('compare_cp/fista_inexact_loss_iters.txt')\n",
    "print('theta = 1, (final loss, iters, times)', loss[-1], iters, time)"
   ]
  },
  {
   "cell_type": "code",
   "execution_count": null,
   "metadata": {},
   "outputs": [],
   "source": []
  }
 ],
 "metadata": {
  "kernelspec": {
   "display_name": "htv_reg",
   "language": "python",
   "name": "python3"
  },
  "language_info": {
   "codemirror_mode": {
    "name": "ipython",
    "version": 3
   },
   "file_extension": ".py",
   "mimetype": "text/x-python",
   "name": "python",
   "nbconvert_exporter": "python",
   "pygments_lexer": "ipython3",
   "version": "3.9.16"
  }
 },
 "nbformat": 4,
 "nbformat_minor": 2
}
