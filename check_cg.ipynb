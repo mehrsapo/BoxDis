{
 "cells": [
  {
   "cell_type": "code",
   "execution_count": 1,
   "metadata": {},
   "outputs": [],
   "source": [
    "from __init__ import * "
   ]
  },
  {
   "cell_type": "code",
   "execution_count": 2,
   "metadata": {},
   "outputs": [],
   "source": [
    "device = 'cuda:0'\n",
    "\n",
    "mask = torch.load('ExpA/data/mask_CS.pt').to(device)\n",
    "img_tensor = torch.load('ExpA/data/c_gt.pt').to(device)\n",
    "mri_in = img_tensor[:, :, :-1, :-1]\n",
    "mri = MRICPWL(mask, device)\n",
    "mri.set_h(0.5)\n",
    "y = mri.H(mri_in)"
   ]
  },
  {
   "cell_type": "code",
   "execution_count": 3,
   "metadata": {},
   "outputs": [
    {
     "name": "stdout",
     "output_type": "stream",
     "text": [
      "torch.Size([1, 1, 256, 256])\n"
     ]
    }
   ],
   "source": [
    "mri.set_h(1)\n",
    "u  = mri.Ht(y) \n",
    "print(u.size())"
   ]
  },
  {
   "cell_type": "code",
   "execution_count": 4,
   "metadata": {},
   "outputs": [
    {
     "name": "stdout",
     "output_type": "stream",
     "text": [
      "tensor(2.0810e-12, device='cuda:0', dtype=torch.float64) tensor(4.4409e-16, device='cuda:0', dtype=torch.float64)\n"
     ]
    }
   ],
   "source": [
    "tau = 0.01\n",
    "out_cf = mri.prox_G_cf(u, y, tau=tau)\n",
    "out_cg = mri.prox_G_cg(u, y, tau, 10000, 1e-20)\n",
    "\n",
    "print((out_cf-out_cg).abs().sum(), (out_cf-out_cg).abs().max())"
   ]
  },
  {
   "cell_type": "code",
   "execution_count": null,
   "metadata": {},
   "outputs": [],
   "source": []
  },
  {
   "cell_type": "code",
   "execution_count": null,
   "metadata": {},
   "outputs": [],
   "source": []
  }
 ],
 "metadata": {
  "kernelspec": {
   "display_name": "htv_reg",
   "language": "python",
   "name": "python3"
  },
  "language_info": {
   "codemirror_mode": {
    "name": "ipython",
    "version": 3
   },
   "file_extension": ".py",
   "mimetype": "text/x-python",
   "name": "python",
   "nbconvert_exporter": "python",
   "pygments_lexer": "ipython3",
   "version": "3.9.16"
  }
 },
 "nbformat": 4,
 "nbformat_minor": 2
}
