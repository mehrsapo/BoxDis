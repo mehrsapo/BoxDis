{
 "cells": [
  {
   "cell_type": "code",
   "execution_count": 1,
   "metadata": {},
   "outputs": [
    {
     "name": "stderr",
     "output_type": "stream",
     "text": [
      "/home/pourya/.conda/envs/htv_reg/lib/python3.9/site-packages/tqdm/auto.py:21: TqdmWarning: IProgress not found. Please update jupyter and ipywidgets. See https://ipywidgets.readthedocs.io/en/stable/user_install.html\n",
      "  from .autonotebook import tqdm as notebook_tqdm\n"
     ]
    }
   ],
   "source": [
    "from __init__ import * "
   ]
  },
  {
   "cell_type": "code",
   "execution_count": 2,
   "metadata": {},
   "outputs": [],
   "source": [
    "img =  plt.imread('images/mra_4.jpeg')[40:-25, 147:-206, 0] / 255\n",
    "device = 'cpu'\n",
    "mask = torch.ones((1, 1, 256, 256))\n",
    "\n",
    "mrs = MultiResSolver('fm', 'htv', lmbda=1e-4, mask=mask, N_scales=6, h_init=8, device=device)\n"
   ]
  },
  {
   "cell_type": "code",
   "execution_count": 3,
   "metadata": {},
   "outputs": [
    {
     "name": "stdout",
     "output_type": "stream",
     "text": [
      "[8.0, 4.0, 2.0, 1.0, 0.5, 0.25]\n",
      "[65, 129, 257, 513, 1025, 2049]\n",
      "[0.015625, 0.0625, 0.25, 1.0, 1.0, 1.0]\n"
     ]
    }
   ],
   "source": [
    "print(mrs.h_scales)\n",
    "print(mrs.size_scales)\n",
    "print(mrs.alphas)"
   ]
  },
  {
   "cell_type": "code",
   "execution_count": null,
   "metadata": {},
   "outputs": [],
   "source": []
  }
 ],
 "metadata": {
  "kernelspec": {
   "display_name": "Dual_denoiser",
   "language": "python",
   "name": "python3"
  },
  "language_info": {
   "codemirror_mode": {
    "name": "ipython",
    "version": 3
   },
   "file_extension": ".py",
   "mimetype": "text/x-python",
   "name": "python",
   "nbconvert_exporter": "python",
   "pygments_lexer": "ipython3",
   "version": "3.9.16"
  },
  "orig_nbformat": 4
 },
 "nbformat": 4,
 "nbformat_minor": 2
}
