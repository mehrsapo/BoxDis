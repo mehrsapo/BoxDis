{
 "cells": [
  {
   "cell_type": "code",
   "execution_count": 1,
   "metadata": {},
   "outputs": [],
   "source": [
    "from __init__ import *"
   ]
  },
  {
   "cell_type": "code",
   "execution_count": 2,
   "metadata": {},
   "outputs": [
    {
     "name": "stdout",
     "output_type": "stream",
     "text": [
      "tensor(63.9742, device='cuda:0', dtype=torch.float64)\n",
      "tensor(3.9974, device='cuda:0', dtype=torch.float64)\n",
      "tensor(7.9957, device='cuda:0', dtype=torch.float64)\n",
      "tensor(7.9964, device='cuda:0', dtype=torch.float64)\n",
      "tensor(7.9959, device='cuda:0', dtype=torch.float64)\n",
      "tensor(7.9958, device='cuda:0', dtype=torch.float64)\n",
      "tensor(15.9924, device='cuda:0', dtype=torch.float64)\n",
      "tensor(0.9997, device='cuda:0', dtype=torch.float64)\n",
      "tensor(0.9995, device='cuda:0', dtype=torch.float64)\n"
     ]
    }
   ],
   "source": [
    "device = 'cuda:0'\n",
    "\n",
    "htv = HTV(device)\n",
    "ct_htv = cal_ct_no_h(htv.L, htv.Lt, device)\n",
    "print(ct_htv)\n",
    "\n",
    "tv = TV_l2_CPWL(device)\n",
    "ct_tv = cal_ct_with_h(tv.L, tv.Lt, 1, device)\n",
    "print(ct_tv)\n",
    "\n",
    "tv = TV_l1_CPWL(device)\n",
    "ct_tv = cal_ct_with_h(tv.L, tv.Lt, 1, device)\n",
    "print(ct_tv)\n",
    "\n",
    "tv = TV_Pixel(device)\n",
    "ct_tv = cal_ct_with_h(tv.L, tv.Lt, 1, device)\n",
    "print(ct_tv)\n",
    "\n",
    "tv = TV_ISO(device)\n",
    "ct_tv = cal_ct_with_h(tv.L, tv.Lt, 1, device)\n",
    "print(ct_tv)\n",
    "\n",
    "tv = TV_ISO_v2(device)\n",
    "ct_tv = cal_ct_with_h(tv.L, tv.Lt, 1, device)\n",
    "print(ct_tv)\n",
    "\n",
    "tv = TV_upwind(device)\n",
    "ct_tv = cal_ct_with_h(tv.L, tv.Lt, 1, device)\n",
    "print(ct_tv)\n",
    "\n",
    "mri = MRICPWL(torch.ones(1, 1, 256, 256).to(device), device)\n",
    "h = 1\n",
    "mri.set_h(h)\n",
    "ct_mri = cal_ct_no_h(mri.H, mri.Ht, device, N=int((256)/h))\n",
    "print(ct_mri)\n",
    "\n",
    "mri = MRIPixel(torch.ones(1, 1, 256, 256).to(device), device)\n",
    "mri.set_h(h)\n",
    "ct_mri = cal_ct_no_h(mri.H, mri.Ht, device, N=int((256)/h))\n",
    "print(ct_mri)"
   ]
  },
  {
   "cell_type": "code",
   "execution_count": null,
   "metadata": {},
   "outputs": [],
   "source": []
  }
 ],
 "metadata": {
  "kernelspec": {
   "display_name": "htv_reg",
   "language": "python",
   "name": "python3"
  },
  "language_info": {
   "codemirror_mode": {
    "name": "ipython",
    "version": 3
   },
   "file_extension": ".py",
   "mimetype": "text/x-python",
   "name": "python",
   "nbconvert_exporter": "python",
   "pygments_lexer": "ipython3",
   "version": "3.9.16"
  }
 },
 "nbformat": 4,
 "nbformat_minor": 2
}
