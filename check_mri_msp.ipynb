{
 "cells": [
  {
   "cell_type": "code",
   "execution_count": 1,
   "metadata": {},
   "outputs": [],
   "source": [
    "from __init__ import * "
   ]
  },
  {
   "cell_type": "code",
   "execution_count": 2,
   "metadata": {},
   "outputs": [],
   "source": [
    "device = 'cpu'\n",
    "mask = torch.ones((1, 1, 1024, 1024))\n",
    "mri = MRIPixel(mask, device)\n",
    "sam = SamplerPixel(device)\n",
    "tv_l2_  = TV_Pixel(device)"
   ]
  },
  {
   "cell_type": "code",
   "execution_count": 3,
   "metadata": {},
   "outputs": [
    {
     "name": "stdout",
     "output_type": "stream",
     "text": [
      "torch.Size([1, 1, 512, 512]) torch.Size([1, 1, 1024, 1024]) torch.Size([1, 1, 2048, 2048]) torch.Size([1, 1, 4096, 4096])\n"
     ]
    }
   ],
   "source": [
    "c_2 = torch.load('ExpA/data/c_gt.pt')[:, :, :-1, :-1]\n",
    "c_1 = sam.upsample(c_2)\n",
    "c_half = sam.upsample(c_1)\n",
    "c_quad = sam.upsample(c_half)\n",
    "\n",
    "print(c_2.size(), c_1.size(), c_half.size(), c_quad.size())"
   ]
  },
  {
   "cell_type": "code",
   "execution_count": 4,
   "metadata": {},
   "outputs": [
    {
     "name": "stdout",
     "output_type": "stream",
     "text": [
      "torch.Size([1, 1, 512, 512]) torch.Size([1, 1, 1024, 1024]) torch.Size([1, 1, 2048, 2048]) torch.Size([1, 1, 4096, 4096])\n"
     ]
    }
   ],
   "source": [
    "c_2_in = c_2\n",
    "c_1_in = c_1\n",
    "c_half_in = c_half\n",
    "c_quad_in = c_quad\n",
    "\n",
    "print(c_2_in.size(), c_1_in.size(), c_half_in.size(), c_quad_in.size())"
   ]
  },
  {
   "cell_type": "code",
   "execution_count": 5,
   "metadata": {},
   "outputs": [
    {
     "name": "stdout",
     "output_type": "stream",
     "text": [
      "tensor(0., dtype=torch.float64) tensor(1.0361e-10, dtype=torch.float64) tensor(1.0361e-10, dtype=torch.float64) tensor(5.1806e-11, dtype=torch.float64)\n"
     ]
    }
   ],
   "source": [
    "# check forward \n",
    "mri.set_h(1)\n",
    "f_hat_1 = mri.H(c_1_in)\n",
    "mri.set_h(2)\n",
    "f_hat_2 = mri.H(c_2_in)\n",
    "mri.set_h(0.5)\n",
    "f_hat_half = mri.H(c_half_in)\n",
    "mri.set_h(0.25)\n",
    "f_hat_quad = mri.H(c_quad_in)\n",
    "\n",
    "print(torch.mean(torch.abs(f_hat_1-f_hat_2)), torch.mean(torch.abs(f_hat_1-f_hat_half)), torch.mean(torch.abs(f_hat_2-f_hat_half)), torch.mean(torch.abs(f_hat_quad-f_hat_half)))\n",
    "assert (torch.mean(torch.abs(f_hat_1-f_hat_2))) < 1e-5\n",
    "assert (torch.mean(torch.abs(f_hat_1-f_hat_half))) < 1e-5\n",
    "assert (torch.mean(torch.abs(f_hat_2-f_hat_half))) < 1e-5\n",
    "assert (torch.mean(torch.abs(f_hat_quad-f_hat_half))) < 1e-5"
   ]
  },
  {
   "cell_type": "code",
   "execution_count": 6,
   "metadata": {},
   "outputs": [
    {
     "name": "stdout",
     "output_type": "stream",
     "text": [
      "tensor(958.1971+3.5527e-14j, dtype=torch.complex128) tensor(958.1971, dtype=torch.float64)\n",
      "tensor(-708.2475+1.1369e-13j, dtype=torch.complex128) tensor(-708.2475, dtype=torch.float64)\n",
      "tensor(102.9963+1.1572j, dtype=torch.complex128) tensor(102.9963, dtype=torch.float64)\n",
      "tensor(60.4443-0.9625j, dtype=torch.complex128) tensor(60.4443, dtype=torch.float64)\n"
     ]
    }
   ],
   "source": [
    "# check adjoint\n",
    "\n",
    "mri.set_h(1)\n",
    "x = torch.normal(0, 1, (1, 1, 1024, 1024)).double() \n",
    "y_prime = torch.normal(0, 1, (1, 1, 1024, 1024)).double() \n",
    "y = mri.H(y_prime)\n",
    "\n",
    "Hx = mri.H(x)\n",
    "Hty = mri.Ht(y)\n",
    "\n",
    "Hxy = (torch.conj(Hx) * y).sum()\n",
    "xHty = (x * Hty).sum()\n",
    "\n",
    "print(Hxy, xHty)\n",
    "\n",
    "mri.set_h(2)\n",
    "x = torch.normal(0, 1, (1, 1, 512, 512)).double() \n",
    "y_prime = torch.normal(0, 1, (1, 1, 512, 512)).double() \n",
    "y = mri.H(y_prime)\n",
    "\n",
    "Hx = mri.H(x)\n",
    "Hty = mri.Ht(y)\n",
    "\n",
    "Hxy = (torch.conj(Hx) * y).sum()\n",
    "xHty = (x * torch.conj(Hty)).sum()\n",
    "\n",
    "print(Hxy, xHty)\n",
    "\n",
    "\n",
    "mri.set_h(0.5)\n",
    "x = torch.normal(0, 1, (1, 1, 2048, 2048)).double() \n",
    "y_prime = torch.normal(0, 1, (1, 1, 2048, 2048)).double() \n",
    "y = mri.H(y_prime)\n",
    "\n",
    "Hx = mri.H(x)\n",
    "Hty = mri.Ht(y)\n",
    "\n",
    "Hxy = (torch.conj(Hx) * y).sum()\n",
    "xHty = (x * Hty).sum()\n",
    "\n",
    "print(Hxy, xHty)\n",
    "\n",
    "mri.set_h(0.25)\n",
    "x = torch.normal(0, 1, (1, 1, 4096, 4096)).double() \n",
    "y_prime = torch.normal(0, 1, (1, 1, 4096, 4096)).double() \n",
    "y = mri.H(y_prime)\n",
    "\n",
    "Hx = mri.H(x)\n",
    "Hty = mri.Ht(y)\n",
    "\n",
    "Hxy = (torch.conj(Hx) * y).sum()\n",
    "xHty = (x * Hty).sum()\n",
    "\n",
    "print(Hxy, xHty)"
   ]
  },
  {
   "cell_type": "code",
   "execution_count": 7,
   "metadata": {},
   "outputs": [
    {
     "name": "stdout",
     "output_type": "stream",
     "text": [
      "tensor(12341.0388, dtype=torch.float64) tensor(12341.0388, dtype=torch.float64) tensor(12341.0388, dtype=torch.float64) tensor(12341.0388, dtype=torch.float64)\n"
     ]
    }
   ],
   "source": [
    "# check tv l2\n",
    "tv_2 = torch.norm(tv_l2_.L(c_2, 2), p=1, dim=1).sum()\n",
    "tv_1 = torch.norm(tv_l2_.L(c_1, 1), p=1, dim=1).sum()\n",
    "tv_half = torch.norm(tv_l2_.L(c_half, 0.5), p=1, dim=1).sum()\n",
    "tv_quad = torch.norm(tv_l2_.L(c_quad, 0.25), p=1, dim=1).sum()\n",
    "\n",
    "print(tv_1, tv_2, tv_half, tv_quad)"
   ]
  },
  {
   "cell_type": "code",
   "execution_count": null,
   "metadata": {},
   "outputs": [],
   "source": []
  }
 ],
 "metadata": {
  "kernelspec": {
   "display_name": "Dual_denoiser",
   "language": "python",
   "name": "python3"
  },
  "language_info": {
   "codemirror_mode": {
    "name": "ipython",
    "version": 3
   },
   "file_extension": ".py",
   "mimetype": "text/x-python",
   "name": "python",
   "nbconvert_exporter": "python",
   "pygments_lexer": "ipython3",
   "version": "3.9.16"
  },
  "orig_nbformat": 4
 },
 "nbformat": 4,
 "nbformat_minor": 2
}
