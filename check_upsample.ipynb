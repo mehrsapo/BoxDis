{
 "cells": [
  {
   "cell_type": "code",
   "execution_count": 1,
   "metadata": {},
   "outputs": [],
   "source": [
    "from __init__ import * "
   ]
  },
  {
   "cell_type": "code",
   "execution_count": 2,
   "metadata": {},
   "outputs": [],
   "source": [
    "device = 'cpu'\n",
    "sam = SamplerCPWL(device)"
   ]
  },
  {
   "cell_type": "code",
   "execution_count": 3,
   "metadata": {},
   "outputs": [
    {
     "name": "stdout",
     "output_type": "stream",
     "text": [
      "tensor([[[[0., 0., 0.],\n",
      "          [0., 5., 0.],\n",
      "          [0., 0., 0.]]]], dtype=torch.float64)\n",
      "tensor([[[[0.0000, 0.0000, 0.0000, 0.0000, 0.0000],\n",
      "          [0.0000, 0.0000, 2.5000, 2.5000, 0.0000],\n",
      "          [0.0000, 2.5000, 5.0000, 2.5000, 0.0000],\n",
      "          [0.0000, 2.5000, 2.5000, 0.0000, 0.0000],\n",
      "          [0.0000, 0.0000, 0.0000, 0.0000, 0.0000]]]], dtype=torch.float64)\n"
     ]
    }
   ],
   "source": [
    "x = torch.Tensor([[[[0, 0, 0], [0, 5, 0], [0, 0, 0]]]]).to(device).double()\n",
    "print(x)\n",
    "x_up = sam.upsample(x)\n",
    "print(x_up)"
   ]
  },
  {
   "cell_type": "code",
   "execution_count": 4,
   "metadata": {},
   "outputs": [
    {
     "name": "stdout",
     "output_type": "stream",
     "text": [
      "tensor([[[[ 0.0000,  1.2500,  1.2500],\n",
      "          [ 1.2500, 12.5000,  1.2500],\n",
      "          [ 1.2500,  1.2500,  0.0000]]]], dtype=torch.float64)\n"
     ]
    }
   ],
   "source": [
    "print(sam.downsample(x_up))"
   ]
  },
  {
   "cell_type": "code",
   "execution_count": null,
   "metadata": {},
   "outputs": [],
   "source": []
  }
 ],
 "metadata": {
  "kernelspec": {
   "display_name": "htv_reg",
   "language": "python",
   "name": "python3"
  },
  "language_info": {
   "codemirror_mode": {
    "name": "ipython",
    "version": 3
   },
   "file_extension": ".py",
   "mimetype": "text/x-python",
   "name": "python",
   "nbconvert_exporter": "python",
   "pygments_lexer": "ipython3",
   "version": "3.9.16"
  },
  "orig_nbformat": 4
 },
 "nbformat": 4,
 "nbformat_minor": 2
}
