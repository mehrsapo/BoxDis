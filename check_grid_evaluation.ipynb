{
 "cells": [
  {
   "cell_type": "code",
   "execution_count": 1,
   "metadata": {},
   "outputs": [],
   "source": [
    "from __init__ import * "
   ]
  },
  {
   "cell_type": "code",
   "execution_count": 2,
   "metadata": {},
   "outputs": [],
   "source": [
    "sols_tv0 = torch.load('ExpB/saved_results/mrs_tv0.pt')\n",
    "\n",
    "x_min=0; x_max=512; N = 65; device='cpu'\n",
    "cpwl_image = BoxGrid(N, x_min, x_max, c_init=sols_tv0, device=device)\n",
    "\n",
    "sam = SamplerCPWL(device)\n",
    "f_sampler = sam.upsample(sols_tv0)\n",
    "\n",
    "grid_up = create_grid_coords(0, 512, 129)\n",
    "f_up = cpwl_image.evaluate(grid_up).view(1, 1, 129, 129)\n",
    "\n",
    "assert (f_up - f_sampler).abs().sum() < 1e-10"
   ]
  },
  {
   "cell_type": "code",
   "execution_count": 3,
   "metadata": {},
   "outputs": [],
   "source": [
    "sols_tvpixel0 = torch.load('ExpB/saved_results/mrs_tvpixel0.pt')\n",
    "\n",
    "x_min=0; x_max=512; N = 65; device='cpu'\n",
    "pixel_image = PixelGrid(N, x_min, x_max, c_init=sols_tvpixel0, device=device)\n",
    "\n",
    "sam_pixel = SamplerPixel(device)\n",
    "f_sampler_pixel  = sam_pixel.upsample(sols_tvpixel0)\n",
    "\n",
    "grid_up_pixel  = create_grid_coords(0, 512-4, 128) + 2\n",
    "f_up_pixel  = pixel_image.evaluate(grid_up_pixel).view(1, 1, 128, 128)\n",
    "\n",
    "assert (f_up_pixel  - f_sampler_pixel).abs().sum() < 1e-10"
   ]
  },
  {
   "cell_type": "code",
   "execution_count": null,
   "metadata": {},
   "outputs": [],
   "source": []
  }
 ],
 "metadata": {
  "kernelspec": {
   "display_name": "htv_reg",
   "language": "python",
   "name": "python3"
  },
  "language_info": {
   "codemirror_mode": {
    "name": "ipython",
    "version": 3
   },
   "file_extension": ".py",
   "mimetype": "text/x-python",
   "name": "python",
   "nbconvert_exporter": "python",
   "pygments_lexer": "ipython3",
   "version": "3.9.16"
  }
 },
 "nbformat": 4,
 "nbformat_minor": 2
}
